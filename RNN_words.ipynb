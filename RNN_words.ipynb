{
  "nbformat": 4,
  "nbformat_minor": 5,
  "metadata": {
    "kernelspec": {
      "display_name": "Python 3",
      "language": "python",
      "name": "python3"
    },
    "language_info": {
      "codemirror_mode": {
        "name": "ipython",
        "version": 3
      },
      "file_extension": ".py",
      "mimetype": "text/x-python",
      "name": "python",
      "nbconvert_exporter": "python",
      "pygments_lexer": "ipython3",
      "version": "3.7.5"
    },
    "colab": {
      "name": "RNN_words.ipynb",
      "provenance": [],
      "include_colab_link": true
    },
    "accelerator": "GPU"
  },
  "cells": [
    {
      "cell_type": "markdown",
      "metadata": {
        "id": "view-in-github",
        "colab_type": "text"
      },
      "source": [
        "<a href=\"https://colab.research.google.com/github/adupatil/Text_Genetrator/blob/main/RNN_words.ipynb\" target=\"_parent\"><img src=\"https://colab.research.google.com/assets/colab-badge.svg\" alt=\"Open In Colab\"/></a>"
      ]
    },
    {
      "cell_type": "code",
      "metadata": {
        "id": "hearing-explanation"
      },
      "source": [
        "import numpy as np\n",
        "import pandas as pd\n",
        "import matplotlib.pyplot as plt\n",
        "import tensorflow as tf"
      ],
      "id": "hearing-explanation",
      "execution_count": 1,
      "outputs": []
    },
    {
      "cell_type": "code",
      "metadata": {
        "colab": {
          "base_uri": "https://localhost:8080/",
          "height": 35
        },
        "id": "dental-genesis",
        "outputId": "e04721f7-d6ea-40f8-a2dc-687c1f678e9b"
      },
      "source": [
        "tf.__version__"
      ],
      "id": "dental-genesis",
      "execution_count": 2,
      "outputs": [
        {
          "output_type": "execute_result",
          "data": {
            "application/vnd.google.colaboratory.intrinsic+json": {
              "type": "string"
            },
            "text/plain": [
              "'2.7.0'"
            ]
          },
          "metadata": {},
          "execution_count": 2
        }
      ]
    },
    {
      "cell_type": "code",
      "metadata": {
        "id": "dirty-ethnic"
      },
      "source": [
        "text = open(\"shakespeare.txt\",'r').read()"
      ],
      "id": "dirty-ethnic",
      "execution_count": 3,
      "outputs": []
    },
    {
      "cell_type": "code",
      "metadata": {
        "colab": {
          "base_uri": "https://localhost:8080/",
          "height": 88
        },
        "id": "fixed-grenada",
        "outputId": "0eac9126-8631-48f7-c937-60fbf8108fb6"
      },
      "source": [
        "text[:500]"
      ],
      "id": "fixed-grenada",
      "execution_count": 4,
      "outputs": [
        {
          "output_type": "execute_result",
          "data": {
            "application/vnd.google.colaboratory.intrinsic+json": {
              "type": "string"
            },
            "text/plain": [
              "\"\\n                     1\\n  From fairest creatures we desire increase,\\n  That thereby beauty's rose might never die,\\n  But as the riper should by time decease,\\n  His tender heir might bear his memory:\\n  But thou contracted to thine own bright eyes,\\n  Feed'st thy light's flame with self-substantial fuel,\\n  Making a famine where abundance lies,\\n  Thy self thy foe, to thy sweet self too cruel:\\n  Thou that art now the world's fresh ornament,\\n  And only herald to the gaudy spring,\\n  Within thine own bu\""
            ]
          },
          "metadata": {},
          "execution_count": 4
        }
      ]
    },
    {
      "cell_type": "code",
      "metadata": {
        "id": "statistical-willow"
      },
      "source": [
        "vocab=sorted(set(text))"
      ],
      "id": "statistical-willow",
      "execution_count": 5,
      "outputs": []
    },
    {
      "cell_type": "code",
      "metadata": {
        "collapsed": true,
        "colab": {
          "base_uri": "https://localhost:8080/"
        },
        "id": "affiliated-swaziland",
        "outputId": "be6c4026-d4c0-44e7-c518-5c4ba1e8f13b"
      },
      "source": [
        "vocab"
      ],
      "id": "affiliated-swaziland",
      "execution_count": 6,
      "outputs": [
        {
          "output_type": "execute_result",
          "data": {
            "text/plain": [
              "['\\n',\n",
              " ' ',\n",
              " '!',\n",
              " '\"',\n",
              " '&',\n",
              " \"'\",\n",
              " '(',\n",
              " ')',\n",
              " ',',\n",
              " '-',\n",
              " '.',\n",
              " '0',\n",
              " '1',\n",
              " '2',\n",
              " '3',\n",
              " '4',\n",
              " '5',\n",
              " '6',\n",
              " '7',\n",
              " '8',\n",
              " '9',\n",
              " ':',\n",
              " ';',\n",
              " '<',\n",
              " '>',\n",
              " '?',\n",
              " 'A',\n",
              " 'B',\n",
              " 'C',\n",
              " 'D',\n",
              " 'E',\n",
              " 'F',\n",
              " 'G',\n",
              " 'H',\n",
              " 'I',\n",
              " 'J',\n",
              " 'K',\n",
              " 'L',\n",
              " 'M',\n",
              " 'N',\n",
              " 'O',\n",
              " 'P',\n",
              " 'Q',\n",
              " 'R',\n",
              " 'S',\n",
              " 'T',\n",
              " 'U',\n",
              " 'V',\n",
              " 'W',\n",
              " 'X',\n",
              " 'Y',\n",
              " 'Z',\n",
              " '[',\n",
              " ']',\n",
              " '_',\n",
              " '`',\n",
              " 'a',\n",
              " 'b',\n",
              " 'c',\n",
              " 'd',\n",
              " 'e',\n",
              " 'f',\n",
              " 'g',\n",
              " 'h',\n",
              " 'i',\n",
              " 'j',\n",
              " 'k',\n",
              " 'l',\n",
              " 'm',\n",
              " 'n',\n",
              " 'o',\n",
              " 'p',\n",
              " 'q',\n",
              " 'r',\n",
              " 's',\n",
              " 't',\n",
              " 'u',\n",
              " 'v',\n",
              " 'w',\n",
              " 'x',\n",
              " 'y',\n",
              " 'z',\n",
              " '|',\n",
              " '}']"
            ]
          },
          "metadata": {},
          "execution_count": 6
        }
      ]
    },
    {
      "cell_type": "code",
      "metadata": {
        "id": "subjective-copying"
      },
      "source": [
        "char_to_ind = {char:ind for ind,char in enumerate(vocab)}"
      ],
      "id": "subjective-copying",
      "execution_count": 7,
      "outputs": []
    },
    {
      "cell_type": "code",
      "metadata": {
        "collapsed": true,
        "colab": {
          "base_uri": "https://localhost:8080/"
        },
        "id": "lovely-heating",
        "outputId": "d35662fe-e4e5-4b18-a604-d50da0ed4df9"
      },
      "source": [
        "char_to_ind"
      ],
      "id": "lovely-heating",
      "execution_count": 8,
      "outputs": [
        {
          "output_type": "execute_result",
          "data": {
            "text/plain": [
              "{'\\n': 0,\n",
              " ' ': 1,\n",
              " '!': 2,\n",
              " '\"': 3,\n",
              " '&': 4,\n",
              " \"'\": 5,\n",
              " '(': 6,\n",
              " ')': 7,\n",
              " ',': 8,\n",
              " '-': 9,\n",
              " '.': 10,\n",
              " '0': 11,\n",
              " '1': 12,\n",
              " '2': 13,\n",
              " '3': 14,\n",
              " '4': 15,\n",
              " '5': 16,\n",
              " '6': 17,\n",
              " '7': 18,\n",
              " '8': 19,\n",
              " '9': 20,\n",
              " ':': 21,\n",
              " ';': 22,\n",
              " '<': 23,\n",
              " '>': 24,\n",
              " '?': 25,\n",
              " 'A': 26,\n",
              " 'B': 27,\n",
              " 'C': 28,\n",
              " 'D': 29,\n",
              " 'E': 30,\n",
              " 'F': 31,\n",
              " 'G': 32,\n",
              " 'H': 33,\n",
              " 'I': 34,\n",
              " 'J': 35,\n",
              " 'K': 36,\n",
              " 'L': 37,\n",
              " 'M': 38,\n",
              " 'N': 39,\n",
              " 'O': 40,\n",
              " 'P': 41,\n",
              " 'Q': 42,\n",
              " 'R': 43,\n",
              " 'S': 44,\n",
              " 'T': 45,\n",
              " 'U': 46,\n",
              " 'V': 47,\n",
              " 'W': 48,\n",
              " 'X': 49,\n",
              " 'Y': 50,\n",
              " 'Z': 51,\n",
              " '[': 52,\n",
              " ']': 53,\n",
              " '_': 54,\n",
              " '`': 55,\n",
              " 'a': 56,\n",
              " 'b': 57,\n",
              " 'c': 58,\n",
              " 'd': 59,\n",
              " 'e': 60,\n",
              " 'f': 61,\n",
              " 'g': 62,\n",
              " 'h': 63,\n",
              " 'i': 64,\n",
              " 'j': 65,\n",
              " 'k': 66,\n",
              " 'l': 67,\n",
              " 'm': 68,\n",
              " 'n': 69,\n",
              " 'o': 70,\n",
              " 'p': 71,\n",
              " 'q': 72,\n",
              " 'r': 73,\n",
              " 's': 74,\n",
              " 't': 75,\n",
              " 'u': 76,\n",
              " 'v': 77,\n",
              " 'w': 78,\n",
              " 'x': 79,\n",
              " 'y': 80,\n",
              " 'z': 81,\n",
              " '|': 82,\n",
              " '}': 83}"
            ]
          },
          "metadata": {},
          "execution_count": 8
        }
      ]
    },
    {
      "cell_type": "code",
      "metadata": {
        "colab": {
          "base_uri": "https://localhost:8080/"
        },
        "id": "discrete-spending",
        "outputId": "cd57e99d-393b-4c49-d0df-8be24069ccbe"
      },
      "source": [
        "char_to_ind['H']"
      ],
      "id": "discrete-spending",
      "execution_count": 9,
      "outputs": [
        {
          "output_type": "execute_result",
          "data": {
            "text/plain": [
              "33"
            ]
          },
          "metadata": {},
          "execution_count": 9
        }
      ]
    },
    {
      "cell_type": "code",
      "metadata": {
        "id": "current-monaco"
      },
      "source": [
        "ind_to_char = np.array(vocab)"
      ],
      "id": "current-monaco",
      "execution_count": 10,
      "outputs": []
    },
    {
      "cell_type": "code",
      "metadata": {
        "colab": {
          "base_uri": "https://localhost:8080/",
          "height": 35
        },
        "id": "sustained-security",
        "outputId": "0a049ece-b711-4e71-cfad-922785aec73b"
      },
      "source": [
        "ind_to_char[33]"
      ],
      "id": "sustained-security",
      "execution_count": 11,
      "outputs": [
        {
          "output_type": "execute_result",
          "data": {
            "application/vnd.google.colaboratory.intrinsic+json": {
              "type": "string"
            },
            "text/plain": [
              "'H'"
            ]
          },
          "metadata": {},
          "execution_count": 11
        }
      ]
    },
    {
      "cell_type": "code",
      "metadata": {
        "id": "sustained-copyright"
      },
      "source": [
        "encoded_text = [char_to_ind[c] for c in text]"
      ],
      "id": "sustained-copyright",
      "execution_count": 12,
      "outputs": []
    },
    {
      "cell_type": "code",
      "metadata": {
        "scrolled": true,
        "colab": {
          "base_uri": "https://localhost:8080/"
        },
        "id": "selected-milton",
        "outputId": "821eb587-cea0-4c3b-c5df-c95e9da5188c"
      },
      "source": [
        "encoded_text[:40]"
      ],
      "id": "selected-milton",
      "execution_count": 13,
      "outputs": [
        {
          "output_type": "execute_result",
          "data": {
            "text/plain": [
              "[0,\n",
              " 1,\n",
              " 1,\n",
              " 1,\n",
              " 1,\n",
              " 1,\n",
              " 1,\n",
              " 1,\n",
              " 1,\n",
              " 1,\n",
              " 1,\n",
              " 1,\n",
              " 1,\n",
              " 1,\n",
              " 1,\n",
              " 1,\n",
              " 1,\n",
              " 1,\n",
              " 1,\n",
              " 1,\n",
              " 1,\n",
              " 1,\n",
              " 12,\n",
              " 0,\n",
              " 1,\n",
              " 1,\n",
              " 31,\n",
              " 73,\n",
              " 70,\n",
              " 68,\n",
              " 1,\n",
              " 61,\n",
              " 56,\n",
              " 64,\n",
              " 73,\n",
              " 60,\n",
              " 74,\n",
              " 75,\n",
              " 1,\n",
              " 58]"
            ]
          },
          "metadata": {},
          "execution_count": 13
        }
      ]
    },
    {
      "cell_type": "code",
      "metadata": {
        "colab": {
          "base_uri": "https://localhost:8080/"
        },
        "id": "august-brazilian",
        "outputId": "b0ea2aab-b25e-4a68-8829-b0340aa3ed14"
      },
      "source": [
        "print(text[:500])"
      ],
      "id": "august-brazilian",
      "execution_count": 14,
      "outputs": [
        {
          "output_type": "stream",
          "name": "stdout",
          "text": [
            "\n",
            "                     1\n",
            "  From fairest creatures we desire increase,\n",
            "  That thereby beauty's rose might never die,\n",
            "  But as the riper should by time decease,\n",
            "  His tender heir might bear his memory:\n",
            "  But thou contracted to thine own bright eyes,\n",
            "  Feed'st thy light's flame with self-substantial fuel,\n",
            "  Making a famine where abundance lies,\n",
            "  Thy self thy foe, to thy sweet self too cruel:\n",
            "  Thou that art now the world's fresh ornament,\n",
            "  And only herald to the gaudy spring,\n",
            "  Within thine own bu\n"
          ]
        }
      ]
    },
    {
      "cell_type": "code",
      "metadata": {
        "colab": {
          "base_uri": "https://localhost:8080/"
        },
        "id": "included-internet",
        "outputId": "8743b5d3-fe9d-4070-8a5e-55092bbe1bb0"
      },
      "source": [
        "#length of a single line\n",
        "line = \"  From fairest creatures we desire increase,\"\n",
        "len(line)"
      ],
      "id": "included-internet",
      "execution_count": 15,
      "outputs": [
        {
          "output_type": "execute_result",
          "data": {
            "text/plain": [
              "44"
            ]
          },
          "metadata": {},
          "execution_count": 15
        }
      ]
    },
    {
      "cell_type": "code",
      "metadata": {
        "colab": {
          "base_uri": "https://localhost:8080/"
        },
        "id": "special-mainstream",
        "outputId": "e12ffe5e-7c57-411c-dea2-ac6cdaa01fac"
      },
      "source": [
        "lines= '''\n",
        "  From fairest creatures we desire increase,\n",
        "  That thereby beauty's rose might never die,\n",
        "  But as the riper should by time decease,\n",
        "'''\n",
        "len(lines)"
      ],
      "id": "special-mainstream",
      "execution_count": 16,
      "outputs": [
        {
          "output_type": "execute_result",
          "data": {
            "text/plain": [
              "135"
            ]
          },
          "metadata": {},
          "execution_count": 16
        }
      ]
    },
    {
      "cell_type": "code",
      "metadata": {
        "id": "younger-locator"
      },
      "source": [
        "seq_len = 130"
      ],
      "id": "younger-locator",
      "execution_count": 17,
      "outputs": []
    },
    {
      "cell_type": "code",
      "metadata": {
        "id": "opposite-experiment"
      },
      "source": [
        "total_num_seq=len(text)// (seq_len+1)"
      ],
      "id": "opposite-experiment",
      "execution_count": 18,
      "outputs": []
    },
    {
      "cell_type": "code",
      "metadata": {
        "id": "completed-occupation"
      },
      "source": [
        "char_dataset = tf.data.Dataset.from_tensor_slices(encoded_text)"
      ],
      "id": "completed-occupation",
      "execution_count": 19,
      "outputs": []
    },
    {
      "cell_type": "code",
      "metadata": {
        "collapsed": true,
        "colab": {
          "base_uri": "https://localhost:8080/"
        },
        "id": "italian-heater",
        "outputId": "29fc345c-a496-40cf-9d85-cf42f8b0c561"
      },
      "source": [
        "for item in char_dataset.take(30):\n",
        "    print(ind_to_char[item.numpy()])"
      ],
      "id": "italian-heater",
      "execution_count": 20,
      "outputs": [
        {
          "output_type": "stream",
          "name": "stdout",
          "text": [
            "\n",
            "\n",
            " \n",
            " \n",
            " \n",
            " \n",
            " \n",
            " \n",
            " \n",
            " \n",
            " \n",
            " \n",
            " \n",
            " \n",
            " \n",
            " \n",
            " \n",
            " \n",
            " \n",
            " \n",
            " \n",
            " \n",
            " \n",
            "1\n",
            "\n",
            "\n",
            " \n",
            " \n",
            "F\n",
            "r\n",
            "o\n",
            "m\n"
          ]
        }
      ]
    },
    {
      "cell_type": "code",
      "metadata": {
        "id": "million-vacuum"
      },
      "source": [
        "sequences = char_dataset.batch(seq_len+1,drop_remainder=True)"
      ],
      "id": "million-vacuum",
      "execution_count": 21,
      "outputs": []
    },
    {
      "cell_type": "code",
      "metadata": {
        "id": "plastic-insert"
      },
      "source": [
        "def create_seq(seq):\n",
        "    input_txt = seq[:-1]\n",
        "    targer_txt = seq[1:]\n",
        "    return input_txt,targer_txt"
      ],
      "id": "plastic-insert",
      "execution_count": 22,
      "outputs": []
    },
    {
      "cell_type": "code",
      "metadata": {
        "id": "forbidden-hungary"
      },
      "source": [
        "dataset = sequences.map(create_seq)"
      ],
      "id": "forbidden-hungary",
      "execution_count": 23,
      "outputs": []
    },
    {
      "cell_type": "code",
      "metadata": {
        "colab": {
          "base_uri": "https://localhost:8080/"
        },
        "id": "relative-valve",
        "outputId": "6a40c490-6930-4fc3-d115-1e535900629b"
      },
      "source": [
        "for input_txt,target_txt in dataset.take(1):\n",
        "    print(input_txt.numpy())\n",
        "    print(\"\".join(ind_to_char[input_txt.numpy()]))\n",
        "    print(target_txt.numpy())\n",
        "    print(\"\".join(ind_to_char[target_txt.numpy()]))"
      ],
      "id": "relative-valve",
      "execution_count": 24,
      "outputs": [
        {
          "output_type": "stream",
          "name": "stdout",
          "text": [
            "[ 0  1  1  1  1  1  1  1  1  1  1  1  1  1  1  1  1  1  1  1  1  1 12  0\n",
            "  1  1 31 73 70 68  1 61 56 64 73 60 74 75  1 58 73 60 56 75 76 73 60 74\n",
            "  1 78 60  1 59 60 74 64 73 60  1 64 69 58 73 60 56 74 60  8  0  1  1 45\n",
            " 63 56 75  1 75 63 60 73 60 57 80  1 57 60 56 76 75 80  5 74  1 73 70 74\n",
            " 60  1 68 64 62 63 75  1 69 60 77 60 73  1 59 64 60  8  0  1  1 27 76 75\n",
            "  1 56 74  1 75 63 60  1 73 64]\n",
            "\n",
            "                     1\n",
            "  From fairest creatures we desire increase,\n",
            "  That thereby beauty's rose might never die,\n",
            "  But as the ri\n",
            "[ 1  1  1  1  1  1  1  1  1  1  1  1  1  1  1  1  1  1  1  1  1 12  0  1\n",
            "  1 31 73 70 68  1 61 56 64 73 60 74 75  1 58 73 60 56 75 76 73 60 74  1\n",
            " 78 60  1 59 60 74 64 73 60  1 64 69 58 73 60 56 74 60  8  0  1  1 45 63\n",
            " 56 75  1 75 63 60 73 60 57 80  1 57 60 56 76 75 80  5 74  1 73 70 74 60\n",
            "  1 68 64 62 63 75  1 69 60 77 60 73  1 59 64 60  8  0  1  1 27 76 75  1\n",
            " 56 74  1 75 63 60  1 73 64 71]\n",
            "                     1\n",
            "  From fairest creatures we desire increase,\n",
            "  That thereby beauty's rose might never die,\n",
            "  But as the rip\n"
          ]
        }
      ]
    },
    {
      "cell_type": "code",
      "metadata": {
        "id": "missing-description"
      },
      "source": [
        "batch_size = 128"
      ],
      "id": "missing-description",
      "execution_count": 25,
      "outputs": []
    },
    {
      "cell_type": "code",
      "metadata": {
        "id": "competent-diagnosis"
      },
      "source": [
        "buffer_size = 10000\n",
        "dataset = dataset.shuffle(buffer_size).batch(batch_size,drop_remainder=True)"
      ],
      "id": "competent-diagnosis",
      "execution_count": 26,
      "outputs": []
    },
    {
      "cell_type": "code",
      "metadata": {
        "colab": {
          "base_uri": "https://localhost:8080/"
        },
        "id": "featured-penetration",
        "outputId": "8d876bda-a422-4b4e-999c-3dcfbed94a9e"
      },
      "source": [
        "dataset"
      ],
      "id": "featured-penetration",
      "execution_count": 27,
      "outputs": [
        {
          "output_type": "execute_result",
          "data": {
            "text/plain": [
              "<BatchDataset shapes: ((128, 130), (128, 130)), types: (tf.int32, tf.int32)>"
            ]
          },
          "metadata": {},
          "execution_count": 27
        }
      ]
    },
    {
      "cell_type": "code",
      "metadata": {
        "id": "competitive-chester"
      },
      "source": [
        "vocab_size = len(vocab)"
      ],
      "id": "competitive-chester",
      "execution_count": 28,
      "outputs": []
    },
    {
      "cell_type": "code",
      "metadata": {
        "id": "healthy-russian"
      },
      "source": [
        "embed_dim = 64"
      ],
      "id": "healthy-russian",
      "execution_count": 29,
      "outputs": []
    },
    {
      "cell_type": "code",
      "metadata": {
        "id": "fundamental-silly"
      },
      "source": [
        "rnn_neurons = 1024"
      ],
      "id": "fundamental-silly",
      "execution_count": 30,
      "outputs": []
    },
    {
      "cell_type": "code",
      "metadata": {
        "id": "under-builder"
      },
      "source": [
        "from tensorflow.keras.losses import sparse_categorical_crossentropy"
      ],
      "id": "under-builder",
      "execution_count": 31,
      "outputs": []
    },
    {
      "cell_type": "code",
      "metadata": {
        "id": "instant-ceramic"
      },
      "source": [
        "def sparse(y_true,y_pred):\n",
        "    return sparse_categorical_crossentropy(y_true,y_pred,from_logits=True)"
      ],
      "id": "instant-ceramic",
      "execution_count": 32,
      "outputs": []
    },
    {
      "cell_type": "code",
      "metadata": {
        "id": "manufactured-spread"
      },
      "source": [
        "from tensorflow.keras.models import Sequential\n",
        "from tensorflow.keras.layers import Embedding,GRU,Dense"
      ],
      "id": "manufactured-spread",
      "execution_count": 33,
      "outputs": []
    },
    {
      "cell_type": "code",
      "metadata": {
        "id": "intermediate-mexican"
      },
      "source": [
        "def create_model(vocab_size,embed_dims,rnn_neurons,batch_size):\n",
        "    model = Sequential()\n",
        "    \n",
        "    model.add(Embedding(vocab_size,embed_dims,batch_input_shape=[batch_size,None]))\n",
        "    model.add(GRU(rnn_neurons,return_sequences=True,stateful=True,recurrent_initializer=\"glorot_uniform\"))\n",
        "    model.add(Dense(vocab_size))\n",
        "    \n",
        "    model.compile(\"adam\",loss=sparse)\n",
        "    \n",
        "    return model"
      ],
      "id": "intermediate-mexican",
      "execution_count": 34,
      "outputs": []
    },
    {
      "cell_type": "code",
      "metadata": {
        "id": "negative-participation"
      },
      "source": [
        "model = create_model(vocab_size=vocab_size,embed_dims=embed_dim,rnn_neurons=rnn_neurons,batch_size=batch_size)"
      ],
      "id": "negative-participation",
      "execution_count": 47,
      "outputs": []
    },
    {
      "cell_type": "code",
      "metadata": {
        "colab": {
          "base_uri": "https://localhost:8080/"
        },
        "id": "acute-reform",
        "outputId": "d5ce50ca-8a2c-401a-c9a6-bb5f5e07fc74"
      },
      "source": [
        "model.summary()"
      ],
      "id": "acute-reform",
      "execution_count": 36,
      "outputs": [
        {
          "output_type": "stream",
          "name": "stdout",
          "text": [
            "Model: \"sequential\"\n",
            "_________________________________________________________________\n",
            " Layer (type)                Output Shape              Param #   \n",
            "=================================================================\n",
            " embedding (Embedding)       (128, None, 64)           5376      \n",
            "                                                                 \n",
            " gru (GRU)                   (128, None, 1024)         3348480   \n",
            "                                                                 \n",
            " dense (Dense)               (128, None, 84)           86100     \n",
            "                                                                 \n",
            "=================================================================\n",
            "Total params: 3,439,956\n",
            "Trainable params: 3,439,956\n",
            "Non-trainable params: 0\n",
            "_________________________________________________________________\n"
          ]
        }
      ]
    },
    {
      "cell_type": "code",
      "metadata": {
        "id": "respective-messaging"
      },
      "source": [
        "for input_ex_batch, target_ex_batch in dataset.take(1):\n",
        "  example_batch_pred = model(input_ex_batch)"
      ],
      "id": "respective-messaging",
      "execution_count": 37,
      "outputs": []
    },
    {
      "cell_type": "code",
      "metadata": {
        "colab": {
          "base_uri": "https://localhost:8080/"
        },
        "id": "Nv-p_1gzKe4d",
        "outputId": "72919827-859b-4ee4-fc6e-470ecc5f97ef"
      },
      "source": [
        "example_batch_pred.shape"
      ],
      "id": "Nv-p_1gzKe4d",
      "execution_count": 38,
      "outputs": [
        {
          "output_type": "execute_result",
          "data": {
            "text/plain": [
              "TensorShape([128, 130, 84])"
            ]
          },
          "metadata": {},
          "execution_count": 38
        }
      ]
    },
    {
      "cell_type": "code",
      "metadata": {
        "id": "-u3s6x39Ki2G"
      },
      "source": [
        "sample = example_batch_pred[0]"
      ],
      "id": "-u3s6x39Ki2G",
      "execution_count": 39,
      "outputs": []
    },
    {
      "cell_type": "code",
      "metadata": {
        "id": "ymvHaHerKmgU"
      },
      "source": [
        "sample_slice = tf.random.categorical(sample,num_samples=1)"
      ],
      "id": "ymvHaHerKmgU",
      "execution_count": 40,
      "outputs": []
    },
    {
      "cell_type": "code",
      "metadata": {
        "id": "ki6FZCnUKoFL"
      },
      "source": [
        "sample_slice=np.squeeze(sample_slice)"
      ],
      "id": "ki6FZCnUKoFL",
      "execution_count": 41,
      "outputs": []
    },
    {
      "cell_type": "code",
      "metadata": {
        "colab": {
          "base_uri": "https://localhost:8080/"
        },
        "id": "-Pw59rw8LLPq",
        "outputId": "276b9423-e289-4180-9d80-0787a26d304b"
      },
      "source": [
        "ind_to_char[sample_slice]"
      ],
      "id": "-Pw59rw8LLPq",
      "execution_count": 42,
      "outputs": [
        {
          "output_type": "execute_result",
          "data": {
            "text/plain": [
              "array([\"'\", 'n', '<', 'W', '&', 'P', 'k', 'Z', '&', 'r', '\"', 'n', '0',\n",
              "       ')', '_', 'X', 'i', 'm', 'e', '-', '1', '!', 'I', 'j', 't', 'F',\n",
              "       '-', 'O', 'v', '}', 'k', ')', '-', '5', 'R', '.', '8', 'Q', '1',\n",
              "       'x', 'P', 'X', 'v', 'W', 'p', '1', 'b', 'e', 'x', '\\n', '6', 'D',\n",
              "       'S', 'a', 'f', '-', 'T', '>', 'U', 'U', '!', '_', 'j', 'c', '5',\n",
              "       ';', 'D', \"'\", 'T', 'E', 'o', 'q', '8', 'x', '5', 'u', 'b', 'V',\n",
              "       '0', 'E', '-', 'j', 'n', 'm', 'l', '?', 'H', 'p', 'l', 'J', 'b',\n",
              "       'c', 'u', 'U', 'N', '_', 'j', '0', '&', '}', ']', 'b', 'r', 'z',\n",
              "       '2', 'l', ',', ' ', '-', 'g', 'R', 'H', '_', 'N', 't', 'X', '[',\n",
              "       's', 'v', ']', 'u', 'G', ']', '\\n', 'D', 'Z', '}', 'O', '(', 'C'],\n",
              "      dtype='<U1')"
            ]
          },
          "metadata": {},
          "execution_count": 42
        }
      ]
    },
    {
      "cell_type": "code",
      "metadata": {
        "id": "_YYecyBkLcwh"
      },
      "source": [
        "epochs=30"
      ],
      "id": "_YYecyBkLcwh",
      "execution_count": 43,
      "outputs": []
    },
    {
      "cell_type": "code",
      "metadata": {
        "id": "BgemzQPShmTQ"
      },
      "source": [
        "#model = create_model(vocab_size=vocab_size,embed_dims=embed_dim,rnn_neurons=rnn_neurons,batch_size=1)"
      ],
      "id": "BgemzQPShmTQ",
      "execution_count": 45,
      "outputs": []
    },
    {
      "cell_type": "code",
      "metadata": {
        "colab": {
          "base_uri": "https://localhost:8080/"
        },
        "id": "d8SfX0u2hf2n",
        "outputId": "fc891b98-be7b-4de5-b75a-5ff3d911b7e8"
      },
      "source": [
        "model.fit(dataset,epochs=epochs)"
      ],
      "id": "d8SfX0u2hf2n",
      "execution_count": 49,
      "outputs": [
        {
          "output_type": "stream",
          "name": "stdout",
          "text": [
            "Epoch 1/30\n",
            "324/324 [==============================] - 86s 259ms/step - loss: 2.1241\n",
            "Epoch 2/30\n",
            "324/324 [==============================] - 87s 263ms/step - loss: 1.6866\n",
            "Epoch 3/30\n",
            "324/324 [==============================] - 87s 261ms/step - loss: 1.4565\n",
            "Epoch 4/30\n",
            "324/324 [==============================] - 87s 261ms/step - loss: 1.3440\n",
            "Epoch 5/30\n",
            "324/324 [==============================] - 87s 261ms/step - loss: 1.2818\n",
            "Epoch 6/30\n",
            "324/324 [==============================] - 87s 262ms/step - loss: 1.2413\n",
            "Epoch 7/30\n",
            "324/324 [==============================] - 86s 258ms/step - loss: 1.2116\n",
            "Epoch 8/30\n",
            "324/324 [==============================] - 85s 257ms/step - loss: 1.1879\n",
            "Epoch 9/30\n",
            "324/324 [==============================] - 86s 261ms/step - loss: 1.1682\n",
            "Epoch 10/30\n",
            "324/324 [==============================] - 87s 261ms/step - loss: 1.1503\n",
            "Epoch 11/30\n",
            "324/324 [==============================] - 87s 261ms/step - loss: 1.1351\n",
            "Epoch 12/30\n",
            "324/324 [==============================] - 87s 261ms/step - loss: 1.1202\n",
            "Epoch 13/30\n",
            "324/324 [==============================] - 86s 261ms/step - loss: 1.1070\n",
            "Epoch 14/30\n",
            "324/324 [==============================] - 86s 259ms/step - loss: 1.0937\n",
            "Epoch 15/30\n",
            "324/324 [==============================] - 86s 258ms/step - loss: 1.0823\n",
            "Epoch 16/30\n",
            "324/324 [==============================] - 87s 262ms/step - loss: 1.0710\n",
            "Epoch 17/30\n",
            "324/324 [==============================] - 87s 263ms/step - loss: 1.0594\n",
            "Epoch 18/30\n",
            "324/324 [==============================] - 87s 262ms/step - loss: 1.0490\n",
            "Epoch 19/30\n",
            "324/324 [==============================] - 87s 262ms/step - loss: 1.0387\n",
            "Epoch 20/30\n",
            "324/324 [==============================] - 87s 263ms/step - loss: 1.0292\n",
            "Epoch 21/30\n",
            "324/324 [==============================] - 86s 258ms/step - loss: 1.0205\n",
            "Epoch 22/30\n",
            "324/324 [==============================] - 86s 260ms/step - loss: 1.0117\n",
            "Epoch 23/30\n",
            "324/324 [==============================] - 88s 264ms/step - loss: 1.0040\n",
            "Epoch 24/30\n",
            "324/324 [==============================] - 87s 263ms/step - loss: 0.9967\n",
            "Epoch 25/30\n",
            "324/324 [==============================] - 87s 263ms/step - loss: 0.9898\n",
            "Epoch 26/30\n",
            "324/324 [==============================] - 88s 264ms/step - loss: 0.9837\n",
            "Epoch 27/30\n",
            "324/324 [==============================] - 88s 264ms/step - loss: 0.9783\n",
            "Epoch 28/30\n",
            "324/324 [==============================] - 86s 259ms/step - loss: 0.9735\n",
            "Epoch 29/30\n",
            "324/324 [==============================] - 86s 260ms/step - loss: 0.9693\n",
            "Epoch 30/30\n",
            "324/324 [==============================] - 87s 263ms/step - loss: 0.9649\n"
          ]
        },
        {
          "output_type": "execute_result",
          "data": {
            "text/plain": [
              "<keras.callbacks.History at 0x7f6bf8633c50>"
            ]
          },
          "metadata": {},
          "execution_count": 49
        }
      ]
    },
    {
      "cell_type": "code",
      "metadata": {
        "id": "EgxwL__pL3O3"
      },
      "source": [
        "# model = create_model(vocab_size=vocab_size,embed_dims=embed_dim,rnn_neurons=rnn_neurons,batch_size=1)\n",
        "\n",
        "# model.load_weights(\"shakespeare_gen.h5\")\n",
        "\n",
        "# model.build(tf.TensorShape([1,None]))"
      ],
      "id": "EgxwL__pL3O3",
      "execution_count": 44,
      "outputs": []
    },
    {
      "cell_type": "code",
      "metadata": {
        "id": "ApLQAR9iUjbr"
      },
      "source": [
        "model.save(\"./generate_words.h5\")"
      ],
      "id": "ApLQAR9iUjbr",
      "execution_count": 52,
      "outputs": []
    },
    {
      "cell_type": "code",
      "metadata": {
        "id": "vdhMnzFI4J17"
      },
      "source": [
        "model_2 = create_model(vocab_size=vocab_size,embed_dims=embed_dim,rnn_neurons=rnn_neurons,batch_size=1)\n",
        "\n",
        "model_2.load_weights(\"generate_words.h5\")\n",
        "\n",
        "model_2.build(tf.TensorShape([1,None]))"
      ],
      "id": "vdhMnzFI4J17",
      "execution_count": 55,
      "outputs": []
    },
    {
      "cell_type": "code",
      "metadata": {
        "colab": {
          "base_uri": "https://localhost:8080/"
        },
        "id": "Okio8a0p5I4R",
        "outputId": "38e9d613-0e30-43c1-d262-e557af2bc915"
      },
      "source": [
        "model_2.summary()"
      ],
      "id": "Okio8a0p5I4R",
      "execution_count": 56,
      "outputs": [
        {
          "output_type": "stream",
          "name": "stdout",
          "text": [
            "Model: \"sequential_4\"\n",
            "_________________________________________________________________\n",
            " Layer (type)                Output Shape              Param #   \n",
            "=================================================================\n",
            " embedding_4 (Embedding)     (1, None, 64)             5376      \n",
            "                                                                 \n",
            " gru_4 (GRU)                 (1, None, 1024)           3348480   \n",
            "                                                                 \n",
            " dense_4 (Dense)             (1, None, 84)             86100     \n",
            "                                                                 \n",
            "=================================================================\n",
            "Total params: 3,439,956\n",
            "Trainable params: 3,439,956\n",
            "Non-trainable params: 0\n",
            "_________________________________________________________________\n"
          ]
        }
      ]
    },
    {
      "cell_type": "code",
      "metadata": {
        "id": "d75u81F85eK6"
      },
      "source": [
        "def generate_text(model,start_seed,gen_size=500,temp=1.0):\n",
        "  num_gen = gen_size\n",
        "  input_eval = [char_to_ind[s] for s in start_seed]\n",
        "\n",
        "  input_eval = tf.expand_dims(input_eval,0)\n",
        "\n",
        "  text_generated = []\n",
        "\n",
        "  for i in range(num_gen):\n",
        "    predictions = model(input_eval)\n",
        "\n",
        "    predictions = tf.squeeze(predictions,0)\n",
        "\n",
        "    predictions = predictions/temp\n",
        "\n",
        "    predicted_id = tf.random.categorical(predictions,num_samples=1)[-1,0].numpy()\n",
        "\n",
        "    input_eval = tf.expand_dims([predicted_id],0)\n",
        "\n",
        "    text_generated.append(ind_to_char[predicted_id])\n",
        "\n",
        "  return (start_seed+\"\".join(text_generated))\n"
      ],
      "id": "d75u81F85eK6",
      "execution_count": 64,
      "outputs": []
    },
    {
      "cell_type": "code",
      "metadata": {
        "colab": {
          "base_uri": "https://localhost:8080/"
        },
        "id": "_Gu7eCvp6onI",
        "outputId": "00683c65-0772-4497-ef06-2d26e95dc268"
      },
      "source": [
        "print(generate_text(model=model_2,start_seed=\"HAMLET\",gen_size=1000,temp=1.0))"
      ],
      "id": "_Gu7eCvp6onI",
      "execution_count": 66,
      "outputs": [
        {
          "output_type": "stream",
          "name": "stdout",
          "text": [
            "HAMLETR\n",
            "\n",
            "  KING. 'Twas I this day, you are a youths excel;\n",
            "    Where I must wake pains to prison with him.\n",
            "  CLOWN. Come on, sir; I am not that I was a vision.\n",
            "  Ham. A plague o' this face!\n",
            "  CRESSIDA. And you\n",
            "    To make me sometimple last come so able and learns\n",
            "    The rest, he mourns he puts in them, and to that\n",
            "    in his depour your person to her all- I know, my face,\n",
            "    fool.\n",
            "  Lear. Now, I do to the usu poor and not fear'd her; and\n",
            "  t'e, exceeding bars,\n",
            "    In women was.  \n",
            "  CAMILLO. I do not force: here will by virtues for\n",
            "    us and in such contagious to I deny him;\n",
            "    if I think't.\n",
            "  SIR TOBY. What's a good gentleman? No, mine hostill' act and for kings\n",
            "    And not in Cade is setrl so much they do me!\n",
            "    Ride me with shows, these suitors have we for Him's is\n",
            "    from the gold!' you and I shall be quit i' th' night.\n",
            "  1. Watch. Is out the least thou wilt dismoune what he spoke?\n",
            "  Kent. Sir, they pass'd with a cord.\n",
            "  CRESSIDA. Were he my din, belike sleeps in my sons- my best c\n"
          ]
        }
      ]
    },
    {
      "cell_type": "code",
      "metadata": {
        "id": "9rez0RW--x8E"
      },
      "source": [
        ""
      ],
      "id": "9rez0RW--x8E",
      "execution_count": null,
      "outputs": []
    }
  ]
}